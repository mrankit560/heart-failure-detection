{
 "cells": [
  {
   "cell_type": "code",
   "execution_count": 1,
   "metadata": {
    "id": "AIzmmS3glhfy"
   },
   "outputs": [],
   "source": [
    "\n",
    "import pandas as pd\n",
    "import numpy as np\n",
    "import seaborn as sns\n",
    "import matplotlib.pyplot as plt\n",
    "%matplotlib inline\n",
    "import plotly.express as px\n",
    "import plotly.graph_objects as go \n",
    "from plotly.subplots import make_subplots\n",
    "import plotly.io as pio\n",
    "import plotly.graph_objs as gobj\n",
    "from IPython.display import Image"
   ]
  },
  {
   "cell_type": "code",
   "execution_count": 2,
   "metadata": {
    "id": "_HwWnWw_8cYa"
   },
   "outputs": [],
   "source": [
    "#Github URL\n",
    "#url = 'https://raw.githubusercontent.com/Gloriaihuoma/stage-f-07-heart-failure/master/data/heart_failure_clinical_records_dataset.csv'"
   ]
  },
  {
   "cell_type": "code",
   "execution_count": 3,
   "metadata": {
    "colab": {
     "base_uri": "https://localhost:8080/"
    },
    "id": "j6GKWyxYINN1",
    "outputId": "8033b30d-1556-461f-9a74-fff5c4233d6b"
   },
   "outputs": [],
   "source": [
    "# from google.colab import drive\n",
    "# drive.mount('/content/drive')"
   ]
  },
  {
   "cell_type": "code",
   "execution_count": 4,
   "metadata": {
    "id": "bkmp0dKiyIC3"
   },
   "outputs": [],
   "source": [
    "#Importing our dataset\n",
    "df = pd.read_csv('heart_failure_clinical_records_dataset.csv')"
   ]
  },
  {
   "cell_type": "code",
   "execution_count": 5,
   "metadata": {
    "colab": {
     "base_uri": "https://localhost:8080/",
     "height": 379
    },
    "id": "2MgnHY72U3lK",
    "outputId": "ebfbb78e-53da-4068-b3aa-f4db0fee51b0"
   },
   "outputs": [
    {
     "data": {
      "text/html": [
       "<div>\n",
       "<style scoped>\n",
       "    .dataframe tbody tr th:only-of-type {\n",
       "        vertical-align: middle;\n",
       "    }\n",
       "\n",
       "    .dataframe tbody tr th {\n",
       "        vertical-align: top;\n",
       "    }\n",
       "\n",
       "    .dataframe thead th {\n",
       "        text-align: right;\n",
       "    }\n",
       "</style>\n",
       "<table border=\"1\" class=\"dataframe\">\n",
       "  <thead>\n",
       "    <tr style=\"text-align: right;\">\n",
       "      <th></th>\n",
       "      <th>age</th>\n",
       "      <th>anaemia</th>\n",
       "      <th>creatinine_phosphokinase</th>\n",
       "      <th>diabetes</th>\n",
       "      <th>ejection_fraction</th>\n",
       "      <th>high_blood_pressure</th>\n",
       "      <th>platelets</th>\n",
       "      <th>serum_creatinine</th>\n",
       "      <th>serum_sodium</th>\n",
       "      <th>sex</th>\n",
       "      <th>smoking</th>\n",
       "      <th>time</th>\n",
       "      <th>DEATH_EVENT</th>\n",
       "    </tr>\n",
       "  </thead>\n",
       "  <tbody>\n",
       "    <tr>\n",
       "      <th>0</th>\n",
       "      <td>75.0</td>\n",
       "      <td>0</td>\n",
       "      <td>582</td>\n",
       "      <td>0</td>\n",
       "      <td>20</td>\n",
       "      <td>1</td>\n",
       "      <td>265000.00</td>\n",
       "      <td>1.9</td>\n",
       "      <td>130</td>\n",
       "      <td>1</td>\n",
       "      <td>0</td>\n",
       "      <td>4</td>\n",
       "      <td>1</td>\n",
       "    </tr>\n",
       "    <tr>\n",
       "      <th>1</th>\n",
       "      <td>55.0</td>\n",
       "      <td>0</td>\n",
       "      <td>7861</td>\n",
       "      <td>0</td>\n",
       "      <td>38</td>\n",
       "      <td>0</td>\n",
       "      <td>263358.03</td>\n",
       "      <td>1.1</td>\n",
       "      <td>136</td>\n",
       "      <td>1</td>\n",
       "      <td>0</td>\n",
       "      <td>6</td>\n",
       "      <td>1</td>\n",
       "    </tr>\n",
       "    <tr>\n",
       "      <th>2</th>\n",
       "      <td>65.0</td>\n",
       "      <td>0</td>\n",
       "      <td>146</td>\n",
       "      <td>0</td>\n",
       "      <td>20</td>\n",
       "      <td>0</td>\n",
       "      <td>162000.00</td>\n",
       "      <td>1.3</td>\n",
       "      <td>129</td>\n",
       "      <td>1</td>\n",
       "      <td>1</td>\n",
       "      <td>7</td>\n",
       "      <td>1</td>\n",
       "    </tr>\n",
       "    <tr>\n",
       "      <th>3</th>\n",
       "      <td>50.0</td>\n",
       "      <td>1</td>\n",
       "      <td>111</td>\n",
       "      <td>0</td>\n",
       "      <td>20</td>\n",
       "      <td>0</td>\n",
       "      <td>210000.00</td>\n",
       "      <td>1.9</td>\n",
       "      <td>137</td>\n",
       "      <td>1</td>\n",
       "      <td>0</td>\n",
       "      <td>7</td>\n",
       "      <td>1</td>\n",
       "    </tr>\n",
       "    <tr>\n",
       "      <th>4</th>\n",
       "      <td>65.0</td>\n",
       "      <td>1</td>\n",
       "      <td>160</td>\n",
       "      <td>1</td>\n",
       "      <td>20</td>\n",
       "      <td>0</td>\n",
       "      <td>327000.00</td>\n",
       "      <td>2.7</td>\n",
       "      <td>116</td>\n",
       "      <td>0</td>\n",
       "      <td>0</td>\n",
       "      <td>8</td>\n",
       "      <td>1</td>\n",
       "    </tr>\n",
       "    <tr>\n",
       "      <th>5</th>\n",
       "      <td>90.0</td>\n",
       "      <td>1</td>\n",
       "      <td>47</td>\n",
       "      <td>0</td>\n",
       "      <td>40</td>\n",
       "      <td>1</td>\n",
       "      <td>204000.00</td>\n",
       "      <td>2.1</td>\n",
       "      <td>132</td>\n",
       "      <td>1</td>\n",
       "      <td>1</td>\n",
       "      <td>8</td>\n",
       "      <td>1</td>\n",
       "    </tr>\n",
       "    <tr>\n",
       "      <th>6</th>\n",
       "      <td>75.0</td>\n",
       "      <td>1</td>\n",
       "      <td>246</td>\n",
       "      <td>0</td>\n",
       "      <td>15</td>\n",
       "      <td>0</td>\n",
       "      <td>127000.00</td>\n",
       "      <td>1.2</td>\n",
       "      <td>137</td>\n",
       "      <td>1</td>\n",
       "      <td>0</td>\n",
       "      <td>10</td>\n",
       "      <td>1</td>\n",
       "    </tr>\n",
       "    <tr>\n",
       "      <th>7</th>\n",
       "      <td>60.0</td>\n",
       "      <td>1</td>\n",
       "      <td>315</td>\n",
       "      <td>1</td>\n",
       "      <td>60</td>\n",
       "      <td>0</td>\n",
       "      <td>454000.00</td>\n",
       "      <td>1.1</td>\n",
       "      <td>131</td>\n",
       "      <td>1</td>\n",
       "      <td>1</td>\n",
       "      <td>10</td>\n",
       "      <td>1</td>\n",
       "    </tr>\n",
       "    <tr>\n",
       "      <th>8</th>\n",
       "      <td>65.0</td>\n",
       "      <td>0</td>\n",
       "      <td>157</td>\n",
       "      <td>0</td>\n",
       "      <td>65</td>\n",
       "      <td>0</td>\n",
       "      <td>263358.03</td>\n",
       "      <td>1.5</td>\n",
       "      <td>138</td>\n",
       "      <td>0</td>\n",
       "      <td>0</td>\n",
       "      <td>10</td>\n",
       "      <td>1</td>\n",
       "    </tr>\n",
       "    <tr>\n",
       "      <th>9</th>\n",
       "      <td>80.0</td>\n",
       "      <td>1</td>\n",
       "      <td>123</td>\n",
       "      <td>0</td>\n",
       "      <td>35</td>\n",
       "      <td>1</td>\n",
       "      <td>388000.00</td>\n",
       "      <td>9.4</td>\n",
       "      <td>133</td>\n",
       "      <td>1</td>\n",
       "      <td>1</td>\n",
       "      <td>10</td>\n",
       "      <td>1</td>\n",
       "    </tr>\n",
       "  </tbody>\n",
       "</table>\n",
       "</div>"
      ],
      "text/plain": [
       "    age  anaemia  creatinine_phosphokinase  diabetes  ejection_fraction  \\\n",
       "0  75.0        0                       582         0                 20   \n",
       "1  55.0        0                      7861         0                 38   \n",
       "2  65.0        0                       146         0                 20   \n",
       "3  50.0        1                       111         0                 20   \n",
       "4  65.0        1                       160         1                 20   \n",
       "5  90.0        1                        47         0                 40   \n",
       "6  75.0        1                       246         0                 15   \n",
       "7  60.0        1                       315         1                 60   \n",
       "8  65.0        0                       157         0                 65   \n",
       "9  80.0        1                       123         0                 35   \n",
       "\n",
       "   high_blood_pressure  platelets  serum_creatinine  serum_sodium  sex  \\\n",
       "0                    1  265000.00               1.9           130    1   \n",
       "1                    0  263358.03               1.1           136    1   \n",
       "2                    0  162000.00               1.3           129    1   \n",
       "3                    0  210000.00               1.9           137    1   \n",
       "4                    0  327000.00               2.7           116    0   \n",
       "5                    1  204000.00               2.1           132    1   \n",
       "6                    0  127000.00               1.2           137    1   \n",
       "7                    0  454000.00               1.1           131    1   \n",
       "8                    0  263358.03               1.5           138    0   \n",
       "9                    1  388000.00               9.4           133    1   \n",
       "\n",
       "   smoking  time  DEATH_EVENT  \n",
       "0        0     4            1  \n",
       "1        0     6            1  \n",
       "2        1     7            1  \n",
       "3        0     7            1  \n",
       "4        0     8            1  \n",
       "5        1     8            1  \n",
       "6        0    10            1  \n",
       "7        1    10            1  \n",
       "8        0    10            1  \n",
       "9        1    10            1  "
      ]
     },
     "execution_count": 5,
     "metadata": {},
     "output_type": "execute_result"
    }
   ],
   "source": [
    "#checking the first 10 rows\n",
    "df.head(10)"
   ]
  },
  {
   "cell_type": "code",
   "execution_count": 6,
   "metadata": {
    "colab": {
     "base_uri": "https://localhost:8080/",
     "height": 317
    },
    "id": "5OhlolJPU8Bg",
    "outputId": "634ffe7f-03fa-4d84-aa7c-74df49fa90a6"
   },
   "outputs": [
    {
     "data": {
      "text/html": [
       "<div>\n",
       "<style scoped>\n",
       "    .dataframe tbody tr th:only-of-type {\n",
       "        vertical-align: middle;\n",
       "    }\n",
       "\n",
       "    .dataframe tbody tr th {\n",
       "        vertical-align: top;\n",
       "    }\n",
       "\n",
       "    .dataframe thead th {\n",
       "        text-align: right;\n",
       "    }\n",
       "</style>\n",
       "<table border=\"1\" class=\"dataframe\">\n",
       "  <thead>\n",
       "    <tr style=\"text-align: right;\">\n",
       "      <th></th>\n",
       "      <th>age</th>\n",
       "      <th>anaemia</th>\n",
       "      <th>creatinine_phosphokinase</th>\n",
       "      <th>diabetes</th>\n",
       "      <th>ejection_fraction</th>\n",
       "      <th>high_blood_pressure</th>\n",
       "      <th>platelets</th>\n",
       "      <th>serum_creatinine</th>\n",
       "      <th>serum_sodium</th>\n",
       "      <th>sex</th>\n",
       "      <th>smoking</th>\n",
       "      <th>time</th>\n",
       "      <th>DEATH_EVENT</th>\n",
       "    </tr>\n",
       "  </thead>\n",
       "  <tbody>\n",
       "    <tr>\n",
       "      <th>count</th>\n",
       "      <td>299.000000</td>\n",
       "      <td>299.000000</td>\n",
       "      <td>299.000000</td>\n",
       "      <td>299.000000</td>\n",
       "      <td>299.000000</td>\n",
       "      <td>299.000000</td>\n",
       "      <td>299.000000</td>\n",
       "      <td>299.00000</td>\n",
       "      <td>299.000000</td>\n",
       "      <td>299.000000</td>\n",
       "      <td>299.00000</td>\n",
       "      <td>299.000000</td>\n",
       "      <td>299.00000</td>\n",
       "    </tr>\n",
       "    <tr>\n",
       "      <th>mean</th>\n",
       "      <td>60.833893</td>\n",
       "      <td>0.431438</td>\n",
       "      <td>581.839465</td>\n",
       "      <td>0.418060</td>\n",
       "      <td>38.083612</td>\n",
       "      <td>0.351171</td>\n",
       "      <td>263358.029264</td>\n",
       "      <td>1.39388</td>\n",
       "      <td>136.625418</td>\n",
       "      <td>0.648829</td>\n",
       "      <td>0.32107</td>\n",
       "      <td>130.260870</td>\n",
       "      <td>0.32107</td>\n",
       "    </tr>\n",
       "    <tr>\n",
       "      <th>std</th>\n",
       "      <td>11.894809</td>\n",
       "      <td>0.496107</td>\n",
       "      <td>970.287881</td>\n",
       "      <td>0.494067</td>\n",
       "      <td>11.834841</td>\n",
       "      <td>0.478136</td>\n",
       "      <td>97804.236869</td>\n",
       "      <td>1.03451</td>\n",
       "      <td>4.412477</td>\n",
       "      <td>0.478136</td>\n",
       "      <td>0.46767</td>\n",
       "      <td>77.614208</td>\n",
       "      <td>0.46767</td>\n",
       "    </tr>\n",
       "    <tr>\n",
       "      <th>min</th>\n",
       "      <td>40.000000</td>\n",
       "      <td>0.000000</td>\n",
       "      <td>23.000000</td>\n",
       "      <td>0.000000</td>\n",
       "      <td>14.000000</td>\n",
       "      <td>0.000000</td>\n",
       "      <td>25100.000000</td>\n",
       "      <td>0.50000</td>\n",
       "      <td>113.000000</td>\n",
       "      <td>0.000000</td>\n",
       "      <td>0.00000</td>\n",
       "      <td>4.000000</td>\n",
       "      <td>0.00000</td>\n",
       "    </tr>\n",
       "    <tr>\n",
       "      <th>25%</th>\n",
       "      <td>51.000000</td>\n",
       "      <td>0.000000</td>\n",
       "      <td>116.500000</td>\n",
       "      <td>0.000000</td>\n",
       "      <td>30.000000</td>\n",
       "      <td>0.000000</td>\n",
       "      <td>212500.000000</td>\n",
       "      <td>0.90000</td>\n",
       "      <td>134.000000</td>\n",
       "      <td>0.000000</td>\n",
       "      <td>0.00000</td>\n",
       "      <td>73.000000</td>\n",
       "      <td>0.00000</td>\n",
       "    </tr>\n",
       "    <tr>\n",
       "      <th>50%</th>\n",
       "      <td>60.000000</td>\n",
       "      <td>0.000000</td>\n",
       "      <td>250.000000</td>\n",
       "      <td>0.000000</td>\n",
       "      <td>38.000000</td>\n",
       "      <td>0.000000</td>\n",
       "      <td>262000.000000</td>\n",
       "      <td>1.10000</td>\n",
       "      <td>137.000000</td>\n",
       "      <td>1.000000</td>\n",
       "      <td>0.00000</td>\n",
       "      <td>115.000000</td>\n",
       "      <td>0.00000</td>\n",
       "    </tr>\n",
       "    <tr>\n",
       "      <th>75%</th>\n",
       "      <td>70.000000</td>\n",
       "      <td>1.000000</td>\n",
       "      <td>582.000000</td>\n",
       "      <td>1.000000</td>\n",
       "      <td>45.000000</td>\n",
       "      <td>1.000000</td>\n",
       "      <td>303500.000000</td>\n",
       "      <td>1.40000</td>\n",
       "      <td>140.000000</td>\n",
       "      <td>1.000000</td>\n",
       "      <td>1.00000</td>\n",
       "      <td>203.000000</td>\n",
       "      <td>1.00000</td>\n",
       "    </tr>\n",
       "    <tr>\n",
       "      <th>max</th>\n",
       "      <td>95.000000</td>\n",
       "      <td>1.000000</td>\n",
       "      <td>7861.000000</td>\n",
       "      <td>1.000000</td>\n",
       "      <td>80.000000</td>\n",
       "      <td>1.000000</td>\n",
       "      <td>850000.000000</td>\n",
       "      <td>9.40000</td>\n",
       "      <td>148.000000</td>\n",
       "      <td>1.000000</td>\n",
       "      <td>1.00000</td>\n",
       "      <td>285.000000</td>\n",
       "      <td>1.00000</td>\n",
       "    </tr>\n",
       "  </tbody>\n",
       "</table>\n",
       "</div>"
      ],
      "text/plain": [
       "              age     anaemia  creatinine_phosphokinase    diabetes  \\\n",
       "count  299.000000  299.000000                299.000000  299.000000   \n",
       "mean    60.833893    0.431438                581.839465    0.418060   \n",
       "std     11.894809    0.496107                970.287881    0.494067   \n",
       "min     40.000000    0.000000                 23.000000    0.000000   \n",
       "25%     51.000000    0.000000                116.500000    0.000000   \n",
       "50%     60.000000    0.000000                250.000000    0.000000   \n",
       "75%     70.000000    1.000000                582.000000    1.000000   \n",
       "max     95.000000    1.000000               7861.000000    1.000000   \n",
       "\n",
       "       ejection_fraction  high_blood_pressure      platelets  \\\n",
       "count         299.000000           299.000000     299.000000   \n",
       "mean           38.083612             0.351171  263358.029264   \n",
       "std            11.834841             0.478136   97804.236869   \n",
       "min            14.000000             0.000000   25100.000000   \n",
       "25%            30.000000             0.000000  212500.000000   \n",
       "50%            38.000000             0.000000  262000.000000   \n",
       "75%            45.000000             1.000000  303500.000000   \n",
       "max            80.000000             1.000000  850000.000000   \n",
       "\n",
       "       serum_creatinine  serum_sodium         sex    smoking        time  \\\n",
       "count         299.00000    299.000000  299.000000  299.00000  299.000000   \n",
       "mean            1.39388    136.625418    0.648829    0.32107  130.260870   \n",
       "std             1.03451      4.412477    0.478136    0.46767   77.614208   \n",
       "min             0.50000    113.000000    0.000000    0.00000    4.000000   \n",
       "25%             0.90000    134.000000    0.000000    0.00000   73.000000   \n",
       "50%             1.10000    137.000000    1.000000    0.00000  115.000000   \n",
       "75%             1.40000    140.000000    1.000000    1.00000  203.000000   \n",
       "max             9.40000    148.000000    1.000000    1.00000  285.000000   \n",
       "\n",
       "       DEATH_EVENT  \n",
       "count    299.00000  \n",
       "mean       0.32107  \n",
       "std        0.46767  \n",
       "min        0.00000  \n",
       "25%        0.00000  \n",
       "50%        0.00000  \n",
       "75%        1.00000  \n",
       "max        1.00000  "
      ]
     },
     "execution_count": 6,
     "metadata": {},
     "output_type": "execute_result"
    }
   ],
   "source": [
    "#Checking the dataset description\n",
    "df.describe()"
   ]
  },
  {
   "cell_type": "markdown",
   "metadata": {
    "id": "tl4nOZiDsWZa"
   },
   "source": [
    "There is a possiblity that we have outliers in creatinine_phosphokinase, platelets,serum_creatinine, ejection_fraction so we should confirm and remove the outliers\n"
   ]
  },
  {
   "cell_type": "markdown",
   "metadata": {
    "id": "FZRhyrUhyYqD"
   },
   "source": [
    "**CHECKING FOR OUTLIERS**\n",
    "\n",
    "**Serum_creatinine** which is creatinine in your bloodstream. From my research, normal creatinine levels range from 0.9 to 1.3 mg/dl in men and 0.6 to 1.1mg/dl in women who are 18 to 60years. \n",
    "High serum creatinine levels in the blood indicate that the kidney aren't functioning well or a blocked urinary tract, dehydration etc.\n",
    "Therefore we dont have any outlier for Seum_creatinine."
   ]
  },
  {
   "cell_type": "markdown",
   "metadata": {
    "id": "LnkgaTD07KM4"
   },
   "source": [
    "**Creatinine_phosphokinase**(CPK) is an enzyme found mainly in the heart, brain, and skeletal muscle. Normal CPK value is around 10 to 120.\n",
    "High CPK Value can be as a result of stroke, heart attack, lung tissue death etc"
   ]
  },
  {
   "cell_type": "markdown",
   "metadata": {
    "id": "dVQI1DRTgWZh"
   },
   "source": [
    "\n",
    "\n",
    "```\n",
    "`# This is formatted as code`\n",
    "```\n",
    "\n",
    "**Finding outliers**\n",
    "\n",
    "Ejection fraction (EF) is a measurement, expressed as a percentage, of how much blood the left ventricle pumps out with each contraction. An ejection fraction of 60 percent means that 60 percent of the total amount of blood in the left ventricle is pushed out with each heartbeat."
   ]
  },
  {
   "cell_type": "code",
   "execution_count": 7,
   "metadata": {
    "colab": {
     "base_uri": "https://localhost:8080/",
     "height": 282
    },
    "id": "7oNAWVP9phCH",
    "outputId": "7c16930c-d737-4f3e-e525-26914b97ea19"
   },
   "outputs": [
    {
     "ename": "NameError",
     "evalue": "name 'Hf' is not defined",
     "output_type": "error",
     "traceback": [
      "\u001b[1;31m---------------------------------------------------------------------------\u001b[0m",
      "\u001b[1;31mNameError\u001b[0m                                 Traceback (most recent call last)",
      "Input \u001b[1;32mIn [7]\u001b[0m, in \u001b[0;36m<cell line: 3>\u001b[1;34m()\u001b[0m\n\u001b[0;32m      1\u001b[0m \u001b[38;5;66;03m# Boxplot for ejection_fraction\u001b[39;00m\n\u001b[1;32m----> 3\u001b[0m sns\u001b[38;5;241m.\u001b[39mboxplot(x \u001b[38;5;241m=\u001b[39m \u001b[43mHf\u001b[49m\u001b[38;5;241m.\u001b[39mejection_fraction, color \u001b[38;5;241m=\u001b[39m \u001b[38;5;124m'\u001b[39m\u001b[38;5;124mBlue\u001b[39m\u001b[38;5;124m'\u001b[39m)\n\u001b[0;32m      4\u001b[0m plt\u001b[38;5;241m.\u001b[39mshow()\n",
      "\u001b[1;31mNameError\u001b[0m: name 'Hf' is not defined"
     ]
    }
   ],
   "source": [
    "# Boxplot for ejection_fraction\n",
    "\n",
    "sns.boxplot(x = Hf.ejection_fraction, color = 'Blue')\n",
    "plt.show()"
   ]
  },
  {
   "cell_type": "code",
   "execution_count": null,
   "metadata": {
    "id": "rRPRgW3tql2j"
   },
   "outputs": [],
   "source": [
    "# Notice that the outliers are greater or equal to 70%, so we remove it.\n",
    "df = df[df['ejection_fraction']< 70]"
   ]
  },
  {
   "cell_type": "markdown",
   "metadata": {
    "id": "aDdwwEkPgPO_"
   },
   "source": [
    "\n",
    "Platelets are the cells that circulate within our blood and bind together when recorgnize damamaged blood vessels.\n",
    "Normal platelet count ranges from 150,000 to 450,000 platelets per microliter of blood.\n",
    "There are no Outliers in Platelets because having more than 450,000 platelets is a condition called **thrombocytosisi.**\n",
    "And less than 150,000 is known as **thrombcytopenia.**\n"
   ]
  },
  {
   "cell_type": "code",
   "execution_count": null,
   "metadata": {
    "colab": {
     "base_uri": "https://localhost:8080/"
    },
    "id": "t5E9zE6NWQI-",
    "outputId": "c7bd02d4-52b4-4ac0-94e7-27012ac418bb"
   },
   "outputs": [],
   "source": [
    "#check for null values\n",
    "df.isnull().sum()"
   ]
  },
  {
   "cell_type": "markdown",
   "metadata": {
    "id": "AW9AnM4BZhX-"
   },
   "source": [
    "We do not have any null"
   ]
  },
  {
   "cell_type": "code",
   "execution_count": null,
   "metadata": {
    "colab": {
     "base_uri": "https://localhost:8080/"
    },
    "id": "4dFkcwHtZcuY",
    "outputId": "d1de8869-8cad-4c51-c069-6ad5f8e96f26"
   },
   "outputs": [],
   "source": [
    "df.dtypes\n"
   ]
  },
  {
   "cell_type": "code",
   "execution_count": null,
   "metadata": {
    "colab": {
     "base_uri": "https://localhost:8080/",
     "height": 419
    },
    "id": "ASRtZcUHbDcY",
    "outputId": "92e41ec6-1699-4a97-af88-76e6ffa4c872"
   },
   "outputs": [],
   "source": [
    "plt.figure(figsize=(10,4))\n",
    "plt.title('Searching for missing values:')\n",
    "sns.heatmap(data=df.isnull(),cmap = 'cool', cbar = True)"
   ]
  },
  {
   "cell_type": "code",
   "execution_count": null,
   "metadata": {
    "colab": {
     "base_uri": "https://localhost:8080/",
     "height": 282
    },
    "id": "c7D48ygjbcMq",
    "outputId": "4e926f74-8ae3-4b21-8345-ced067659640"
   },
   "outputs": [],
   "source": [
    "#Visualizing the continous variables\n",
    "plt.hist(df[\"age\"], bins=20)\n",
    "plt.xlabel('Age')\n",
    "plt.show()"
   ]
  },
  {
   "cell_type": "code",
   "execution_count": null,
   "metadata": {
    "id": "5vxsWPb-4UnU"
   },
   "outputs": [],
   "source": []
  },
  {
   "cell_type": "code",
   "execution_count": null,
   "metadata": {
    "colab": {
     "base_uri": "https://localhost:8080/",
     "height": 224
    },
    "id": "xZ4kHC2I1Fkx",
    "outputId": "da0dc91f-f682-446b-e141-9798d7f1b3e7"
   },
   "outputs": [],
   "source": [
    "df.head()"
   ]
  },
  {
   "cell_type": "code",
   "execution_count": null,
   "metadata": {
    "colab": {
     "base_uri": "https://localhost:8080/",
     "height": 761
    },
    "id": "tjGxPvFUyx4s",
    "outputId": "c3e9d574-cf8e-4499-8cf8-c61070b3dc03"
   },
   "outputs": [],
   "source": [
    "#this is easier to understand for continous variable\n",
    "plt.style.use('ggplot')\n",
    "fig, axis  = plt.subplots(nrows = 3, ncols = 2, figsize = (20,12))\n",
    "\n",
    "ax0, ax1, ax2, ax3, ax4, ax5 = axis.flatten()\n",
    "\n",
    "ax0.hist(df['age'], color= 'blue')\n",
    "ax0.set_xlabel('Age')\n",
    "\n",
    "ax1.hist(df['creatinine_phosphokinase'],color= 'green')\n",
    "ax1.set_xlabel('Creatinine phosphokinase')\n",
    "\n",
    "ax2.hist(df['ejection_fraction'],color= 'yellow')\n",
    "ax2.set_xlabel('Ejection Fraction')\n",
    "\n",
    "ax3.hist(df['platelets'],color= 'grey', bins = 20)\n",
    "ax3.set_xlabel('Platelets')\n",
    "\n",
    "ax4.hist(df['serum_creatinine'],color= 'purple')\n",
    "ax4.set_xlabel('Serum Creatinine')\n",
    "\n",
    "ax5.hist(df['serum_sodium'],color= 'navy', bins = 20)\n",
    "ax5.set_xlabel('Serum Sodium')\n",
    "\n",
    "\n",
    "\n",
    "plt.tight_layout()"
   ]
  },
  {
   "cell_type": "code",
   "execution_count": null,
   "metadata": {
    "id": "g1SvEaWhtUla"
   },
   "outputs": [],
   "source": []
  },
  {
   "cell_type": "code",
   "execution_count": null,
   "metadata": {
    "colab": {
     "base_uri": "https://localhost:8080/",
     "height": 886
    },
    "id": "UeruIHCq5kI5",
    "outputId": "c81a36df-d037-4b92-c326-4d12263ca762"
   },
   "outputs": [],
   "source": [
    "#Checking categorical variables\n",
    "fig, ax  = plt.subplots(nrows = 3, ncols = 2, figsize = (14,7))\n",
    "plt.tight_layout()\n",
    "sns.countplot(df['anaemia'], ax=ax[0,0])\n",
    "sns.countplot(df['diabetes'], ax=ax[0,1])\n",
    "sns.countplot(df['high_blood_pressure'], ax=ax[1,0])\n",
    "sns.countplot(df['sex'], ax=ax[1,1])\n",
    "sns.countplot(df['smoking'], ax=ax[2,0])\n",
    "fig.delaxes(ax[2,1])"
   ]
  },
  {
   "cell_type": "markdown",
   "metadata": {
    "id": "AbsCfurZduzF"
   },
   "source": [
    "For zero categories in sex are female while for the rest like anaemia it means  does not have anaemia\n",
    "Sex - Gender of patient Male = 1, Female =0\n",
    "Age - Age of patient\n",
    "Diabetes - 0 = No, 1 = Yes\n",
    "Anaemia - 0 = No, 1 = Yes\n",
    "High_blood_pressure - 0 = No, 1 = Yes\n",
    "Smoking - 0 = No, 1 = Yes\n",
    "DEATH_EVENT - 0 = No, 1 = Yes"
   ]
  },
  {
   "cell_type": "code",
   "execution_count": null,
   "metadata": {
    "colab": {
     "base_uri": "https://localhost:8080/",
     "height": 515
    },
    "id": "znvyf4qheMSD",
    "outputId": "3b6f3bda-4a40-4755-e67a-d3b39994f0e6"
   },
   "outputs": [],
   "source": [
    "#using heatmap to check the correlation of the variables\n",
    "plt.figure(figsize = (12,6))\n",
    "sns.heatmap(df[['age', 'creatinine_phosphokinase', 'ejection_fraction', 'platelets', 'serum_creatinine', 'serum_sodium', 'time', 'sex', 'anaemia', 'diabetes', 'high_blood_pressure', 'smoking', 'DEATH_EVENT']].corr(), cmap = 'Greens', annot = True)"
   ]
  },
  {
   "cell_type": "markdown",
   "metadata": {
    "id": "wh1gdGGUiltE"
   },
   "source": [
    "From the above heatmap we can see that ejection_fraction, platelets,serum_creatinine,time,sex and smoking has an inverse relationship with death_event"
   ]
  },
  {
   "cell_type": "code",
   "execution_count": null,
   "metadata": {
    "id": "rgln6IFljZgR"
   },
   "outputs": [],
   "source": []
  },
  {
   "cell_type": "markdown",
   "metadata": {
    "id": "fC5sYA-hmLm4"
   },
   "source": [
    "**Let's use plotly to visualize different variables and their relationship with death event**"
   ]
  },
  {
   "cell_type": "code",
   "execution_count": null,
   "metadata": {
    "colab": {
     "base_uri": "https://localhost:8080/",
     "height": 542
    },
    "id": "sBxED29Xmb-h",
    "outputId": "6b483808-d6c3-4922-a1c5-6a9cf3efbf65"
   },
   "outputs": [],
   "source": [
    "import plotly.express as px\n",
    "import plotly.io as pio\n",
    "fig = px.histogram(df, x= \"ejection_fraction\", color=\"DEATH_EVENT\", marginal=\"box\", hover_data=Hf.columns,\n",
    "                   title =\" EJECTION FRACTION Vs DEATH_EVENT\", \n",
    "                   labels={\"ejection_fraction\": \"EJECTION FRACTION\"},\n",
    "                   template=\"plotly_dark\")\n",
    "fig.show()"
   ]
  },
  {
   "cell_type": "markdown",
   "metadata": {
    "id": "mF8WAtyl7wGs"
   },
   "source": [
    "Ejection fraction is not positively related to death event,we cant tell from the chart above that people with ejection fraction less than 40% had more death event\n",
    "\n",
    "EJECTION FRACTION    HEART'S PUMPING ABILITY\n",
    "\n",
    " Normal               50-75 %\n",
    "\n",
    " Below Normal         36-49 %\n",
    " \n",
    " Low                  35% and below"
   ]
  },
  {
   "cell_type": "code",
   "execution_count": null,
   "metadata": {
    "colab": {
     "base_uri": "https://localhost:8080/",
     "height": 542
    },
    "id": "WKzxlMorquvf",
    "outputId": "baa4ed22-edb5-402a-e46a-e043a8a96c10"
   },
   "outputs": [],
   "source": [
    "import plotly.express as px\n",
    "fig = px.histogram(df, x= \"age\", color=\"DEATH_EVENT\", nbins= 20, hover_data=Hf.columns,\n",
    "                   title =\" Age Vs DEATH_EVENT\", \n",
    "                   labels={\"age\": \"Age\"},\n",
    "                   template=\"plotly_dark\")\n",
    "fig.show()"
   ]
  },
  {
   "cell_type": "markdown",
   "metadata": {
    "id": "YDriGafm8NmR"
   },
   "source": [
    "Age has a direct relationship with death event though more people die of heart failure at the age of 60 to 70"
   ]
  },
  {
   "cell_type": "code",
   "execution_count": null,
   "metadata": {
    "colab": {
     "base_uri": "https://localhost:8080/",
     "height": 542
    },
    "id": "mtBRxHVj8sd8",
    "outputId": "b1a765cb-1c93-44ba-cf54-64e0326f6d1b"
   },
   "outputs": [],
   "source": [
    "import plotly.express as px\n",
    "fig = px.histogram(df, x= \"sex\", color=\"DEATH_EVENT\", hover_data=Hf.columns,\n",
    "                   title =\" SEX(female) Vs DEATH_EVENT\", \n",
    "                   labels={\"sex\": \"Sex\"},\n",
    "                   template=\"plotly_dark\")\n",
    "fig.show()\n"
   ]
  },
  {
   "cell_type": "code",
   "execution_count": null,
   "metadata": {
    "id": "82xc20IOvr1A"
   },
   "outputs": [],
   "source": []
  },
  {
   "cell_type": "code",
   "execution_count": null,
   "metadata": {
    "colab": {
     "base_uri": "https://localhost:8080/"
    },
    "id": "4i7hW3uQ83K1",
    "outputId": "e8d3de61-912b-4e0d-e81e-36d72219a651"
   },
   "outputs": [],
   "source": [
    "#number of female in the dataset\n",
    "Female = df['sex']== 0 \n",
    "Female.value_counts()"
   ]
  },
  {
   "cell_type": "code",
   "execution_count": null,
   "metadata": {
    "colab": {
     "base_uri": "https://localhost:8080/"
    },
    "id": "alv-ZzSugeCx",
    "outputId": "c0832e6a-0a4e-4854-c08e-9eb786f4c7ca"
   },
   "outputs": [],
   "source": [
    "len(female[df[\"DEATH_EVENT\"]==0])/len(df[df[\"sex\"]==0])"
   ]
  },
  {
   "cell_type": "code",
   "execution_count": null,
   "metadata": {
    "colab": {
     "base_uri": "https://localhost:8080/"
    },
    "id": "d9ZEVmTdgkMj",
    "outputId": "aa69c59b-9880-47bd-de5b-d23c3ab357ec"
   },
   "outputs": [],
   "source": [
    "male = df[df['sex']==1]\n",
    "Rate_of_male_survival = len(male[df[\"DEATH_EVENT\"]==0])/len(df[df[\"sex\"]==1])\n",
    "Rate_of_male_survival"
   ]
  },
  {
   "cell_type": "code",
   "execution_count": null,
   "metadata": {
    "colab": {
     "base_uri": "https://localhost:8080/"
    },
    "id": "-Eidz01OiVzT",
    "outputId": "cabf8c29-1c1e-4f6d-9ddf-8f12d1d2aaa3"
   },
   "outputs": [],
   "source": [
    "female = df[df[\"sex\"]==0]\n",
    "female_survi = female[df[\"DEATH_EVENT\"]==0]\n",
    "Rate_of_female_survival = len(female[df[\"DEATH_EVENT\"]==0])/len(df[df[\"sex\"]==0])\n",
    "Rate_of_female_survival"
   ]
  },
  {
   "cell_type": "markdown",
   "metadata": {
    "id": "JMqLlwkGkcNq"
   },
   "source": [
    "This means that female and male  has 68% chances of survival and 32% deathrate.\n",
    "\n"
   ]
  },
  {
   "cell_type": "code",
   "execution_count": null,
   "metadata": {
    "colab": {
     "base_uri": "https://localhost:8080/",
     "height": 814
    },
    "id": "Obswj-nDdSFn",
    "outputId": "276ef5ea-57f9-4b46-dad9-a0e311d4096d"
   },
   "outputs": [],
   "source": [
    "female = df[df[\"sex\"]==0]\n",
    "female_survi = female[df[\"DEATH_EVENT\"]==0]\n",
    "Rate_of_female_survival = len(female[df[\"DEATH_EVENT\"]==0])/len(df[df[\"sex\"]==0])\n",
    "Rate_of_female_survival\n",
    "\n",
    "\n",
    "labels = ['Female survival rate','Male survival rate']\n",
    "values = [len(female[df[\"DEATH_EVENT\"]==0])/len(df[df[\"sex\"]==0]), len(male[df[\"DEATH_EVENT\"]==0])/len(df[df[\"sex\"]==1]) ]\n",
    "fig = go.Figure(data=[go.Pie(labels=labels, values=values, hole=.4)])\n",
    "fig.update_layout(\n",
    "    title_text=\"Analysis on Survival - Gender\")\n",
    "fig.show()"
   ]
  },
  {
   "cell_type": "code",
   "execution_count": null,
   "metadata": {
    "id": "Fg8Ku_KkdlLP"
   },
   "outputs": [],
   "source": []
  },
  {
   "cell_type": "markdown",
   "metadata": {
    "id": "cOCGBW_H_oBT"
   },
   "source": [
    "we have 103 females and 194 males"
   ]
  },
  {
   "cell_type": "code",
   "execution_count": null,
   "metadata": {
    "colab": {
     "base_uri": "https://localhost:8080/"
    },
    "id": "8eZ4ZEQA9QMc",
    "outputId": "2d5d0758-ca6d-4119-84ad-2023c3830eeb"
   },
   "outputs": [],
   "source": [
    "len(df[df['sex'] == 1])/len(df['sex'])"
   ]
  },
  {
   "cell_type": "markdown",
   "metadata": {
    "id": "lKSnsx1kAGuw"
   },
   "source": [
    "65% of the dataset are male"
   ]
  },
  {
   "cell_type": "code",
   "execution_count": null,
   "metadata": {
    "colab": {
     "base_uri": "https://localhost:8080/"
    },
    "id": "B7DuRHwITJg_",
    "outputId": "dca046e1-e5cd-45fa-f701-9069aa469317"
   },
   "outputs": [],
   "source": [
    "len(df[df['sex'] == 0])/len(df['sex'])"
   ]
  },
  {
   "cell_type": "markdown",
   "metadata": {
    "id": "3ozxdQSDTS-1"
   },
   "source": [
    "35% of the dataset are female"
   ]
  },
  {
   "cell_type": "code",
   "execution_count": null,
   "metadata": {
    "colab": {
     "base_uri": "https://localhost:8080/",
     "height": 111
    },
    "id": "evt0kfrd_4jZ",
    "outputId": "6dd1b092-8012-4b21-a9de-6d583854aff6"
   },
   "outputs": [],
   "source": [
    "df[['sex', 'DEATH_EVENT']].groupby(['sex'], as_index = False).mean()"
   ]
  },
  {
   "cell_type": "code",
   "execution_count": null,
   "metadata": {
    "colab": {
     "base_uri": "https://localhost:8080/",
     "height": 224
    },
    "id": "1IvDqhMGBeA-",
    "outputId": "cc971d86-a547-46a3-89d5-f8fcb57ca75b"
   },
   "outputs": [],
   "source": [
    "deathevent_sex = df.groupby(['sex','DEATH_EVENT']).count()\n",
    "deathevent_sex.head()"
   ]
  },
  {
   "cell_type": "markdown",
   "metadata": {
    "id": "j3VBWhdTST-Y"
   },
   "source": [
    "I observed though the population of male is greater than female in this dataset, but their deathevents are 32%.\n",
    "\n",
    "\n",
    "Therefore the chances of any gender surviving is almost the same."
   ]
  },
  {
   "cell_type": "code",
   "execution_count": null,
   "metadata": {
    "colab": {
     "base_uri": "https://localhost:8080/",
     "height": 542
    },
    "id": "B5XwumX1vwDE",
    "outputId": "7d54b7cf-2ce6-423a-9db1-19e0be3ef437"
   },
   "outputs": [],
   "source": [
    "import plotly.express as px\n",
    "fig = px.histogram(df, x= \"platelets\", color=\"DEATH_EVENT\", marginal=\"box\", hover_data=df.columns,\n",
    "                   title =\" Platelets Vs DEATH_EVENT\", \n",
    "                   labels={'platelets': \"Platelets\"},\n",
    "                   template=\"plotly_dark\")\n",
    "fig.show()"
   ]
  },
  {
   "cell_type": "markdown",
   "metadata": {
    "id": "bkid3ts6HPc5"
   },
   "source": [
    "Normal platelet count ranges from 150,000 to 450,000 platelets per microliter of blood.\n",
    "\n",
    "Platelet does not look like it has a direct relationship with death event."
   ]
  },
  {
   "cell_type": "markdown",
   "metadata": {
    "id": "fusrp5b3Gulw"
   },
   "source": []
  },
  {
   "cell_type": "code",
   "execution_count": null,
   "metadata": {
    "colab": {
     "base_uri": "https://localhost:8080/",
     "height": 542
    },
    "id": "4Icbsdo2TsHo",
    "outputId": "e65b2c29-f8d2-4310-a7e5-458f8015325d"
   },
   "outputs": [],
   "source": [
    "import plotly.express as px\n",
    "fig = px.histogram(df, x= \"smoking\", color=\"DEATH_EVENT\", hover_data=df.columns,\n",
    "                   title =\" Smokers Vs DEATH_EVENT\", \n",
    "                   labels={\"smoking\": \"Smoking\"},\n",
    "                   template=\"plotly_dark\")\n",
    "fig.show()"
   ]
  },
  {
   "cell_type": "markdown",
   "metadata": {
    "id": "bCWdiq4ESmZ9"
   },
   "source": [
    "Smoking does not have a direct relationship with deathevent more people that does not smoke died"
   ]
  },
  {
   "cell_type": "code",
   "execution_count": null,
   "metadata": {
    "colab": {
     "base_uri": "https://localhost:8080/",
     "height": 542
    },
    "id": "0hGbwYPqxIwa",
    "outputId": "f39709fc-b9a7-498f-ebdd-67fda9ed3f71"
   },
   "outputs": [],
   "source": [
    "import plotly.express as px\n",
    "fig = px.histogram(df, x= \"serum_creatinine\", color=\"DEATH_EVENT\", marginal=\"box\", hover_data=df.columns,\n",
    "                   title =\" SERUM_CREATININE Vs DEATH_EVENT\", \n",
    "                   labels={\"serum_creatinine\": \"SERUM_CREATININE|\"},\n",
    "                   template=\"plotly_dark\")\n",
    "fig.show()"
   ]
  },
  {
   "cell_type": "markdown",
   "metadata": {
    "id": "e4wskzTJXobs"
   },
   "source": [
    "Serum_creatinine which is creatinine in your bloodstream.\n",
    "From my research, normal creatinine levels range from 0.9 to 1.3 mg/dl in men and 0.6 to 1.1mg/dl in women who are 18 to 60years. High serum creatinine levels in the blood indicate that the kidney aren't functioning well or a blocked urinary tract, dehydration etc. \n",
    "\n",
    "Serum_creatinine has a 0.29 positive relationship with death event, from the chart above we can see very high serum_creatinine died more."
   ]
  },
  {
   "cell_type": "markdown",
   "metadata": {
    "id": "s4PuAe5vXmBY"
   },
   "source": []
  },
  {
   "cell_type": "code",
   "execution_count": null,
   "metadata": {
    "colab": {
     "base_uri": "https://localhost:8080/",
     "height": 542
    },
    "id": "W0u5GX9E8rXm",
    "outputId": "6482c89f-8d62-4136-8b5f-0aea44362a85"
   },
   "outputs": [],
   "source": [
    "import plotly.express as px\n",
    "fig = px.histogram(df, x= \"serum_sodium\", color=\"DEATH_EVENT\", marginal=\"box\", hover_data=df.columns,\n",
    "                   title =\" SERUM_SODIUM Vs DEATH_EVENT\", \n",
    "                   labels={\"serum_sodium\": \"Serum_soduim\"},\n",
    "                   template=\"plotly_dark\")\n",
    "fig.show()"
   ]
  },
  {
   "cell_type": "markdown",
   "metadata": {
    "id": "VN9fPOkKYS3M"
   },
   "source": [
    "\n",
    "The normal range for blood sodium levels is 135 to 145 milliequivalents per liter.\n",
    "\n",
    "From the chart above serum_sodium has no direct relationship with deathevent\n"
   ]
  },
  {
   "cell_type": "markdown",
   "metadata": {
    "id": "OTG3mKuHgmfU"
   },
   "source": []
  },
  {
   "cell_type": "code",
   "execution_count": null,
   "metadata": {
    "colab": {
     "base_uri": "https://localhost:8080/",
     "height": 1000
    },
    "id": "LwCkudyWNh2a",
    "outputId": "6aef0e12-ba09-4783-c87c-46d2bbb0c4e6"
   },
   "outputs": [],
   "source": [
    "#checking the death event using seaborn\n",
    "plt.figure(figsize = (15,15))\n",
    "\n",
    "_ = plt.subplot(2,3,1)\n",
    "_ = sns.countplot('sex', hue='DEATH_EVENT', data=df)\n",
    "_ = plt.legend()\n",
    "\n",
    "_ = plt.subplot(2,3,2)\n",
    "_ = sns.countplot('anaemia', hue='DEATH_EVENT', data=df)\n",
    "_ = plt.legend()\n",
    "\n",
    "_ = plt.subplot(2,3,3)\n",
    "_ = sns.countplot('high_blood_pressure', hue='DEATH_EVENT', data=df)\n",
    "_ = plt.legend()\n",
    "\n",
    "_ = plt.subplot(2,3,4)\n",
    "_ = sns.countplot('smoking', hue='DEATH_EVENT', data=df)\n",
    "_ = plt.legend()\n",
    "\n",
    "_ = plt.subplot(2,3,5)\n",
    "_ = sns.countplot('diabetes', hue='DEATH_EVENT', data=df)\n",
    "_ = plt.legend()\n",
    "\n",
    "_ = plt.tight_layout()\n",
    "\n",
    "_ = plt.show()"
   ]
  },
  {
   "cell_type": "code",
   "execution_count": null,
   "metadata": {
    "colab": {
     "base_uri": "https://localhost:8080/",
     "height": 814
    },
    "id": "MUZRvlzRuTWC",
    "outputId": "1b8851e4-ef7c-4c58-fd16-7f2e344678a0"
   },
   "outputs": [],
   "source": [
    "#Rate survival and death for people that are anaemic\n",
    "non_anaemic = df[df[\"anaemia\"]==0]\n",
    "anaemic = df[df[\"anaemia\"]==1]\n",
    "\n",
    "labels = ['survival rate for non anaemic','survival rate for anaemic','death rate for non anaemic','death rate for anaemic']\n",
    "values = [len(non_anaemic[Hf[\"DEATH_EVENT\"]==0])/len(df[df[\"anaemia\"]==0]), len(anaemic[df[\"DEATH_EVENT\"]==0])/len(df[df[\"anaemia\"]==1]), len(non_anaemic[df[\"DEATH_EVENT\"]==1])/len(df[df[\"anaemia\"]==0]), len(anaemic[df[\"DEATH_EVENT\"]==1])/len(df[df[\"anaemia\"]==0])]\n",
    "fig = go.Figure(data=[go.Pie(labels=labels, values=values, hole=.4)])\n",
    "fig.update_layout(\n",
    "    title_text=\"Analysis for death/Survival - Anaemia\")\n",
    "fig.show()"
   ]
  },
  {
   "cell_type": "code",
   "execution_count": null,
   "metadata": {
    "colab": {
     "base_uri": "https://localhost:8080/",
     "height": 678
    },
    "id": "_qGcygP52Lx3",
    "outputId": "3f1ccdc2-352b-4ce4-b21a-f0941578668c"
   },
   "outputs": [],
   "source": [
    "#rate of Anaemic survival\n",
    "non_anaemic = df[df[\"anaemia\"]==0]\n",
    "anaemic = df[df[\"anaemia\"]==1]\n",
    "\n",
    "labels = ['survival rate for non anaemic','survival rate for anaemic']\n",
    "values = [len(non_anaemic[df[\"DEATH_EVENT\"]==0])/len(df[df[\"anaemia\"]==0]), len(anaemic[df[\"DEATH_EVENT\"]==0])/len(df[df[\"anaemia\"]==1])]\n",
    "fig = go.Figure(data=[go.Pie(labels=labels, values=values, hole=.4)])\n",
    "fig.update_layout(\n",
    "    title_text=\"Analysis on Survival - Anaemia\")\n",
    "fig.show()"
   ]
  },
  {
   "cell_type": "markdown",
   "metadata": {
    "id": "O7mRRVyAVE3c"
   },
   "source": [
    "The chart above shows that the chance of someon that has anaemia surviving is 47.9%, which is close to the chance of someone thats does not have annemia."
   ]
  },
  {
   "cell_type": "code",
   "execution_count": null,
   "metadata": {
    "colab": {
     "base_uri": "https://localhost:8080/",
     "height": 814
    },
    "id": "F9yyXp6DTPVL",
    "outputId": "ac052e8e-2566-4b48-dcae-99315d1cf707"
   },
   "outputs": [],
   "source": [
    "#Rate survival and death for people that are smokes\n",
    "non_smokers = df[df[\"smoking\"]==0]\n",
    "smokers = df[df[\"smoking\"]==1]\n",
    "\n",
    "labels = ['survival rate for non smokers','survival rate for smokers','death rate for non smokers','death rate for smokers']\n",
    "values = [len(non_smokers[df[\"DEATH_EVENT\"]==0])/len(df[df[\"smoking\"]==0]), len(smokers[df[\"DEATH_EVENT\"]==0])/len(df[df[\"smoking\"]==1]), len(non_smokers[df[\"DEATH_EVENT\"]==1])/len(df[df[\"smoking\"]==0]), len(smokers[df[\"DEATH_EVENT\"]==1])/len(df[df[\"anaemia\"]==0])]\n",
    "fig = go.Figure(data=[go.Pie(labels=labels, values=values, hole=.4)])\n",
    "fig.update_layout(\n",
    "    title_text=\"Analysis for death/Survival - Smokers\")\n",
    "fig.show()"
   ]
  },
  {
   "cell_type": "code",
   "execution_count": null,
   "metadata": {
    "colab": {
     "base_uri": "https://localhost:8080/",
     "height": 678
    },
    "id": "NyR-EIDcUxQm",
    "outputId": "df38e5ef-c4f3-4455-dd6c-a8fc8ab8225f"
   },
   "outputs": [],
   "source": [
    "#Rate survival and death for people that are smokes\n",
    "non_smokers = df[df[\"smoking\"]==0]\n",
    "smokers = df[df[\"smoking\"]==1]\n",
    "\n",
    "labels = ['survival rate for non smokers','survival rate for smokers','death rate for non smokers','death rate for smokers']\n",
    "values = [len(non_smokers[df[\"DEATH_EVENT\"]==0])/len(df[df[\"smoking\"]==0]), len(smokers[df[\"DEATH_EVENT\"]==0])/len(df[df[\"smoking\"]==1])]\n",
    "fig = go.Figure(data=[go.Pie(labels=labels, values=values, hole=.4)])\n",
    "fig.update_layout(\n",
    "    title_text=\"Analysis for death/Survival - Smokers\")\n",
    "fig.show()"
   ]
  },
  {
   "cell_type": "markdown",
   "metadata": {
    "id": "ImuVX8IW26Em"
   },
   "source": [
    "The chart above shows that the chance of someone that smokes surviving is 50.4%, which is close to the chance of someone thats does not smoke."
   ]
  },
  {
   "cell_type": "code",
   "execution_count": null,
   "metadata": {
    "colab": {
     "base_uri": "https://localhost:8080/",
     "height": 1000
    },
    "id": "Nm40t9hryqp2",
    "outputId": "4428cdec-9434-4b90-914c-39add7a07483"
   },
   "outputs": [],
   "source": [
    "#analysing chances of death event considering two underlying event\n",
    "cat=['anaemia','diabetes','smoking','sex']\n",
    "con=['creatinine_phosphokinase','age','ejection_fraction','platelets','serum_creatinine','serum_sodium']\n",
    "for x in cat:\n",
    "  for y in con:\n",
    "      sns.catplot(x='DEATH_EVENT',y=y,hue=x,kind='bar',data=df)"
   ]
  },
  {
   "cell_type": "markdown",
   "metadata": {
    "id": "v_lDnVcL-afY"
   },
   "source": [
    "The Age,anaemia and death event chart, shows that older anaemic patient die more than tne non_anaemic people.\n",
    "\n",
    "The ejection_fraction,anaemia and death event chart, show people with low ejection_fraction and other underlying diseases die more.\n",
    "we can recall the normal ejection_fraction is from 50-75% anaemic patient die more than tne non_anaemic people.\n",
    "\n",
    "\n",
    "Going through all the **catplot** I noticed that patient having two underlying diseases does not signify that the patient will die of heart failure.\n"
   ]
  },
  {
   "cell_type": "markdown",
   "metadata": {
    "id": "ttCZ8Twh-Mcs"
   },
   "source": []
  },
  {
   "cell_type": "code",
   "execution_count": null,
   "metadata": {
    "colab": {
     "base_uri": "https://localhost:8080/",
     "height": 224
    },
    "id": "P8N9HqsbnFNy",
    "outputId": "a28803e0-718f-43a2-d4d7-9d9afd81890b"
   },
   "outputs": [],
   "source": [
    "df.head()"
   ]
  },
  {
   "cell_type": "code",
   "execution_count": null,
   "metadata": {
    "colab": {
     "base_uri": "https://localhost:8080/",
     "height": 224
    },
    "id": "alxmNkFAKxFG",
    "outputId": "11b6f03b-7f85-4867-db89-b86f97c41231"
   },
   "outputs": [],
   "source": [
    "deaths=df[df['DEATH_EVENT']==True]\n",
    "deaths.head()"
   ]
  },
  {
   "cell_type": "code",
   "execution_count": null,
   "metadata": {
    "colab": {
     "base_uri": "https://localhost:8080/"
    },
    "id": "j68_gdQACe3L",
    "outputId": "058fe64e-8112-4ca5-b4c4-96ad22fce1f8"
   },
   "outputs": [],
   "source": [
    "#no of deathevent\n",
    "deaths.shape"
   ]
  },
  {
   "cell_type": "code",
   "execution_count": null,
   "metadata": {
    "colab": {
     "base_uri": "https://localhost:8080/"
    },
    "id": "Y5uWQ5CtKjRW",
    "outputId": "7fcf56fe-8de0-493b-ce9e-7ec9b69b035d"
   },
   "outputs": [],
   "source": [
    "#no of death events that had anaemia,diabetes,high blood pressure,smokes.\n",
    "\n",
    "a=deaths['anaemia'].sum()\n",
    "b=deaths['diabetes'].sum()\n",
    "c=deaths['high_blood_pressure'].sum()\n",
    "d=deaths['smoking'].sum() \n",
    "\n",
    "to_print=\"Anaemic: {}, had diabetes: {}, had high blood pressure:{}, smokes:{}\".format(a,b,c,d)\n",
    "print(to_print)"
   ]
  },
  {
   "cell_type": "code",
   "execution_count": null,
   "metadata": {
    "colab": {
     "base_uri": "https://localhost:8080/"
    },
    "id": "uDH-wFO1ogxi",
    "outputId": "f1dbd271-9056-4a4b-9a21-2ae3f72fdad9"
   },
   "outputs": [],
   "source": [
    "##Total no of people that had anaemia,diabetes,high blood pressure,smokes.\n",
    "a=Hf['anaemia'].sum()\n",
    "b=Hf['diabetes'].sum()\n",
    "c=Hf['high_blood_pressure'].sum()\n",
    "d=Hf['smoking'].sum() \n",
    "\n",
    "to_print=\"Anaemic: {}, had diabetes: {}, had high blood pressure:{}, smokes:{}\".format(a,b,c,d)\n",
    "print(to_print)"
   ]
  },
  {
   "cell_type": "markdown",
   "metadata": {
    "id": "cx2jPMwiC6HZ"
   },
   "source": [
    "I observed that patient with three or more underlying diseases has a higher probablity of dying."
   ]
  }
 ],
 "metadata": {
  "colab": {
   "collapsed_sections": [],
   "name": "EDA/visual.ipynb",
   "provenance": []
  },
  "kernelspec": {
   "display_name": "Python 3 (ipykernel)",
   "language": "python",
   "name": "python3"
  },
  "language_info": {
   "codemirror_mode": {
    "name": "ipython",
    "version": 3
   },
   "file_extension": ".py",
   "mimetype": "text/x-python",
   "name": "python",
   "nbconvert_exporter": "python",
   "pygments_lexer": "ipython3",
   "version": "3.9.12"
  }
 },
 "nbformat": 4,
 "nbformat_minor": 1
}
