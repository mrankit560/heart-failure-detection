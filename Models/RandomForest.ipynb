{
 "cells": [
  {
   "cell_type": "code",
   "execution_count": null,
   "metadata": {},
   "outputs": [],
   "source": [
    "import pandas as pd\n",
    "import numpy as np\n",
    "import seaborn as sns\n",
    "import matplotlib.pyplot as plt\n",
    "from sklearn.decomposition import PCA\n",
    "from sklearn.preprocessing import MinMaxScaler\n",
    "from sklearn.model_selection import train_test_split\n",
    "from sklearn.metrics import accuracy_score\n",
    "from sklearn.metrics import precision_score\n",
    "from sklearn.metrics import recall_score\n",
    "from sklearn.metrics import f1_score\n",
    "from sklearn.metrics import confusion_matrix\n",
    "from sklearn.linear_model import LogisticRegression\n",
    "from sklearn.ensemble import RandomForestClassifier"
   ]
  },
  {
   "cell_type": "code",
   "execution_count": null,
   "metadata": {},
   "outputs": [],
   "source": [
    "import sklearn\n",
    "print(sklearn.__version__)\n"
   ]
  },
  {
   "cell_type": "code",
   "execution_count": null,
   "metadata": {},
   "outputs": [],
   "source": [
    "from imblearn.over_sampling import SMOTE"
   ]
  },
  {
   "cell_type": "code",
   "execution_count": null,
   "metadata": {},
   "outputs": [],
   "source": [
    "# importing data\n",
    "df = pd.read_csv('https://raw.githubusercontent.com/gauravjain2/stage-f-07-heart-failure/master/data/heart_failure_clinical_records_dataset.csv')"
   ]
  },
  {
   "cell_type": "code",
   "execution_count": null,
   "metadata": {},
   "outputs": [],
   "source": [
    "df.describe()"
   ]
  },
  {
   "cell_type": "code",
   "execution_count": null,
   "metadata": {},
   "outputs": [],
   "source": [
    "df.head()"
   ]
  },
  {
   "cell_type": "code",
   "execution_count": null,
   "metadata": {},
   "outputs": [],
   "source": [
    "print(\"\\t Data Types of Columns\")\n",
    "print(df.dtypes)\n",
    "print(\"\\n\\t Null Values in the Dataset\")\n",
    "print(df.isna().sum())"
   ]
  },
  {
   "cell_type": "code",
   "execution_count": null,
   "metadata": {},
   "outputs": [],
   "source": [
    "X = df.drop('DEATH_EVENT', axis = 1)\n",
    "Y = df[['DEATH_EVENT']]"
   ]
  },
  {
   "cell_type": "code",
   "execution_count": null,
   "metadata": {},
   "outputs": [],
   "source": [
    "def get_data(smote=False, pca_val=False, split=0.2):\n",
    "    \n",
    "    # SMOTE\n",
    "    if(smote == True):\n",
    "        smote = SMOTE(random_state=1)\n",
    "        X_bal, Y_bal = smote.fit_sample(X, Y)\n",
    "        X_bal = pd.DataFrame(X_bal, columns = X.columns)\n",
    "        \n",
    "    else:\n",
    "        X_bal = X\n",
    "        Y_bal = Y\n",
    "        \n",
    "    # Train-Test Split\n",
    "    X_train, X_test, Y_train, Y_test = train_test_split(X_bal, Y_bal, test_size=split, random_state=1)\n",
    "    \n",
    "    # MinMax Scaling\n",
    "    stdscl = MinMaxScaler()\n",
    "    cols = X.columns\n",
    "    X_train = pd.DataFrame(stdscl.fit_transform(X_train), columns = cols)\n",
    "    X_test = pd.DataFrame(stdscl.transform(X_test), columns = cols)\n",
    "    \n",
    "    # Applying PCA\n",
    "    if(pca_val):\n",
    "        pca = PCA(pca_val)\n",
    "        X_train = pca.fit_transform(X_train)\n",
    "        X_test = pca.transform(X_test)\n",
    "        columns = []\n",
    "        for i in range(X_train.shape[1]):\n",
    "            columns.append(\"col\" + str(i))\n",
    "        X_train = pd.DataFrame(X_train, columns = columns)\n",
    "        X_test = pd.DataFrame(X_test, columns = columns)\n",
    "        \n",
    "    # Reset Index due to Shuffling of Data\n",
    "    X_train = X_train.reset_index(drop=True)\n",
    "    X_test = X_test.reset_index(drop=True)\n",
    "    Y_train = Y_train.reset_index(drop=True)\n",
    "    Y_test = Y_test.reset_index(drop=True)\n",
    "    \n",
    "    return (X_train, X_test, Y_train, Y_test)"
   ]
  },
  {
   "cell_type": "code",
   "execution_count": null,
   "metadata": {},
   "outputs": [],
   "source": [
    "def score_pred(Y_test, Y_pred, model_name = \"this model\"):\n",
    "\n",
    "    # confusion matrix\n",
    "    matrix = confusion_matrix(Y_test, Y_pred)\n",
    "    print(matrix)\n",
    "    \n",
    "    # accuracy: (tp + tn) / (p + n)\n",
    "    accuracy = accuracy_score(Y_test, Y_pred)\n",
    "    print('\\nAccuracy of ' + model_name + ' is : %f' % accuracy)\n",
    "\n",
    "    # precision tp / (tp + fp)\n",
    "    precision = precision_score(Y_test, Y_pred)\n",
    "    print('Precision of ' + model_name + ' is : %f' % precision)\n",
    "\n",
    "    # recall: tp / (tp + fn)\n",
    "    recall = recall_score(Y_test, Y_pred)\n",
    "    print('Recall of ' + model_name + ' is : %f' % recall)\n",
    "\n",
    "    # f1: 2 tp / (2 tp + fp + fn)\n",
    "    f1 = f1_score(Y_test, Y_pred)\n",
    "    print('F1 score of ' + model_name + ' is : %f' % f1)"
   ]
  },
  {
   "cell_type": "code",
   "execution_count": null,
   "metadata": {},
   "outputs": [],
   "source": [
    "# Linear Regression without smote\n",
    "\n",
    "X_train, X_test, Y_train, Y_test = get_data(pca_val=0.99)\n",
    "lr = LogisticRegression()\n",
    "lr.fit(X_train, Y_train)\n",
    "Y_pred = lr.predict(X_test)\n",
    "score_pred(Y_test, Y_pred, model_name = \"Linear Regression without SMOTE\")"
   ]
  },
  {
   "cell_type": "code",
   "execution_count": null,
   "metadata": {},
   "outputs": [],
   "source": [
    "# Linear Regression with SMOTE\n",
    "\n",
    "X_train, X_test, Y_train, Y_test = get_data(smote = True, pca_val=0.99)\n",
    "lr2 = LogisticRegression()\n",
    "lr2.fit(X_train, Y_train)\n",
    "Y_pred = lr2.predict(X_test)\n",
    "score_pred(Y_test, Y_pred, model_name = \"Linear Regression with SMOTE\")"
   ]
  },
  {
   "cell_type": "code",
   "execution_count": null,
   "metadata": {},
   "outputs": [],
   "source": [
    "# Random Forest Classifier without SMOTE\n",
    "\n",
    "X_train, X_test, Y_train, Y_test = get_data(smote = False, pca_val = 0.95)\n",
    "rf = RandomForestClassifier(max_depth=9, n_estimators=50, min_samples_leaf=1, min_samples_split=3)\n",
    "rf.fit(X_train, Y_train)\n",
    "Y_pred = rf.predict(X_test)\n",
    "score_pred(Y_test, Y_pred, model_name = \"Random Forest without SMOTE\")"
   ]
  },
  {
   "cell_type": "code",
   "execution_count": null,
   "metadata": {},
   "outputs": [],
   "source": [
    "# Random Forest Classifier with SMOTE\n",
    "\n",
    "X_train, X_test, Y_train, Y_test = get_data(smote = True, pca_val = False)\n",
    "rf = RandomForestClassifier()\n",
    "rf.fit(X_train, Y_train)\n",
    "Y_pred = rf.predict(X_test)\n",
    "score_pred(Y_test, Y_pred, model_name = \"Random Forest with SMOTE\")"
   ]
  },
  {
   "cell_type": "code",
   "execution_count": null,
   "metadata": {},
   "outputs": [],
   "source": [
    "rf.get_params()"
   ]
  }
 ],
 "metadata": {
  "kernelspec": {
   "display_name": "Python 3 (ipykernel)",
   "language": "python",
   "name": "python3"
  },
  "language_info": {
   "codemirror_mode": {
    "name": "ipython",
    "version": 3
   },
   "file_extension": ".py",
   "mimetype": "text/x-python",
   "name": "python",
   "nbconvert_exporter": "python",
   "pygments_lexer": "ipython3",
   "version": "3.9.12"
  }
 },
 "nbformat": 4,
 "nbformat_minor": 4
}
